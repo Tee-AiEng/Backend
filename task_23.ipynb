{
 "cells": [
  {
   "cell_type": "code",
   "execution_count": 1,
   "id": "087598e8",
   "metadata": {},
   "outputs": [],
   "source": [
    "from pydantic import BaseModel, Field,field_validator, ValidationError\n",
    "from datetime import datetime"
   ]
  },
  {
   "cell_type": "code",
   "execution_count": 32,
   "id": "e2da8150",
   "metadata": {},
   "outputs": [],
   "source": [
    "class TwitterReview(BaseModel):\n",
    "        \"\"\"Username cannot be Admin or Twitter. It only allows (_), special characters not allowed.\n",
    "        Maximum length of username is 15 and minimum length is 5.      \n",
    "        Twitter character limit is 280 for free accounts and 25,000 for premium accounts.\n",
    "        \"\"\"\n",
    "        #seting constarint for the username\n",
    "        username: str = Field(..., min_length=5,max_length=15, pattern =r\"^[\\s\\S]+$\")\n",
    "        #setting constarint that ensures that the username is neither twitter nor admin\n",
    "        @field_validator(\"username\")\n",
    "        def username_cannot_be(cls,v):\n",
    "           if v.lower() in {\"admin\", \"twitter\"}:\n",
    "              raise ValueError(\"Username cannot be admin or twiter\")\n",
    "           else:\n",
    "            return v\n",
    "        # seting constraint on the twiter post, maximum length for premium ccount  is 25000 and for free account is 280\n",
    "        # \n",
    "        free_act_post: str = Field(...,min_length=2, max_length=280,pattern =r\"^[\\s\\S]+$\")\n",
    "        prem_acct_post: str = Field(...,min_length=2, max_length=25000,pattern =r\"^[\\s\\S]+$\")\n",
    "        created_at: datetime = Field(default_factory=datetime.now)\n",
    "        is_active: bool = Field(default=True)"
   ]
  },
  {
   "cell_type": "code",
   "execution_count": 20,
   "id": "0cedbc13",
   "metadata": {},
   "outputs": [],
   "source": [
    "\n",
    "# Creating a demo for each variable using 'twitter' as the username and more than 280 characters for the free account.\n",
    "def demo_str_field():\n",
    "    print(\"Twitter Field Validation\")\n",
    "    try:\n",
    "        TwitterReview(\n",
    "            \n",
    "        username=\"twitter\",\n",
    "\n",
    "            free_act_post=\"Pydantic like typing is used to build a structured, type-safe data models.,\" \\\n",
    "            \" It uses these type hints to validate,serialize, parse and structure data automatically.,\" \\\n",
    "            \"In simple terms, It takes messy or untrusted data like API input, JSON or form data and checks that it matches your type definitions. ,\" \\\n",
    "            \"Now if the data type doesnt match, pydantic raises an error with a clear explanation.\", \n",
    "\n",
    "            prem_acct_post=\"Pydantic like typing is used to build a structured, type-safe data models.,\" \\\n",
    "            \" It uses these type hints to validate,serialize, parse and structure data automatically.,\" \\\n",
    "            \"In simple terms, It takes messy or untrusted data like API input, JSON or form data and checks that it matches your type definitions. ,\" \\\n",
    "            \"Now if the data type doesnt match, pydantic raises an error with a clear explanation.\"\n",
    "                )\n",
    "    except ValidationError as e:\n",
    "        print(e)"
   ]
  },
  {
   "cell_type": "code",
   "execution_count": 21,
   "id": "808f950d",
   "metadata": {},
   "outputs": [
    {
     "name": "stdout",
     "output_type": "stream",
     "text": [
      "Twitter Field Validation\n",
      "2 validation errors for TwitterReview\n",
      "username\n",
      "  Value error, Username cannot be admin or twiter [type=value_error, input_value='twitter', input_type=str]\n",
      "    For further information visit https://errors.pydantic.dev/2.12/v/value_error\n",
      "free_act_post\n",
      "  String should have at most 280 characters [type=string_too_long, input_value='Pydantic like typing is ...th a clear explanation.', input_type=str]\n",
      "    For further information visit https://errors.pydantic.dev/2.12/v/string_too_long\n"
     ]
    }
   ],
   "source": [
    "demo_str_field()"
   ]
  },
  {
   "cell_type": "code",
   "execution_count": 22,
   "id": "f582f664",
   "metadata": {},
   "outputs": [],
   "source": [
    "# Creating a demo for each variable\n",
    "def demo_str_field():\n",
    "    print(\"Twitter Field Validation\")\n",
    "    try:\n",
    "        TwitterReview(username=\"Mr_chris\", \n",
    "                free_act_post=\"Pydantic like typing is used to build a structured, type-safe data models.,\" \\\n",
    "                \" It uses these type hints to validate,serialize, parse and structure data automatically.,\", \n",
    "\n",
    "                prem_acct_post=\"Pydantic like typing is used to build a structured, type-safe data models.,\" \\\n",
    "                \" It uses these type hints to validate,serialize, parse and structure data automatically.,\" \\\n",
    "                \"In simple terms, It takes messy or untrusted data like API input, JSON or form data and checks that it matches your type definitions. ,\" \\\n",
    "                \"Now if the data type doesnt match, pydantic raises an error with a clear explanation.\")\n",
    "    except ValidationError as e:\n",
    "        print(e)"
   ]
  },
  {
   "cell_type": "code",
   "execution_count": 23,
   "id": "64b00080",
   "metadata": {},
   "outputs": [
    {
     "name": "stdout",
     "output_type": "stream",
     "text": [
      "Twitter Field Validation\n"
     ]
    }
   ],
   "source": [
    "demo_str_field()"
   ]
  },
  {
   "cell_type": "code",
   "execution_count": 30,
   "id": "7b414378",
   "metadata": {},
   "outputs": [],
   "source": [
    "def bool_str_field():\n",
    "    print(\"\\n Boolean Field Validation\")\n",
    "    account = TwitterReview(username=\"@Mr_chris\", \n",
    "                free_act_post=\"Pydantic like typing is used to build a structured, type-safe data models.,\" \\\n",
    "                \" It uses these type hints to validate,serialize, parse and structure data automatically.,\", \n",
    "\n",
    "                prem_acct_post=\"Pydantic like typing is used to build a structured, type-safe data models.,\" \\\n",
    "                \" It uses these type hints to validate,serialize, parse and structure data automatically.,\" \\\n",
    "                \"In simple terms, It takes messy or untrusted data like API input, JSON or form data and checks that it matches your type definitions. ,\" \\\n",
    "                \"Now if the data type doesnt match, pydantic raises an error with a clear explanation.\")\n",
    "               \n",
    "    print(\"is_active =\", account.is_active)"
   ]
  },
  {
   "cell_type": "code",
   "execution_count": 33,
   "id": "bd15bf2e",
   "metadata": {},
   "outputs": [
    {
     "name": "stdout",
     "output_type": "stream",
     "text": [
      "\n",
      " Boolean Field Validation\n",
      "is_active = True\n"
     ]
    }
   ],
   "source": [
    "bool_str_field()"
   ]
  },
  {
   "cell_type": "code",
   "execution_count": 34,
   "id": "968e377d",
   "metadata": {},
   "outputs": [],
   "source": [
    "def demo_datetime_field():\n",
    "    print(\"\\n Datetime Field Validation\")\n",
    "    account = TwitterReview(username=\"@Mr_chris\", \n",
    "                free_act_post=\"Pydantic like typing is used to build a structured, type-safe data models.,\" \\\n",
    "                \" It uses these type hints to validate,serialize, parse and structure data automatically.,\", \n",
    "\n",
    "                prem_acct_post=\"Pydantic like typing is used to build a structured, type-safe data models.,\" \\\n",
    "                \" It uses these type hints to validate,serialize, parse and structure data automatically.,\" \\\n",
    "                \"In simple terms, It takes messy or untrusted data like API input, JSON or form data and checks that it matches your type definitions. ,\" \\\n",
    "                \"Now if the data type doesnt match, pydantic raises an error with a clear explanation.\")\n",
    "               \n",
    "    print(\"created_at =\", account.created_at)"
   ]
  },
  {
   "cell_type": "code",
   "execution_count": 35,
   "id": "dcbf14f5",
   "metadata": {},
   "outputs": [
    {
     "name": "stdout",
     "output_type": "stream",
     "text": [
      "\n",
      " Datetime Field Validation\n",
      "created_at = 2025-10-16 15:22:41.791487\n"
     ]
    }
   ],
   "source": [
    "demo_datetime_field()"
   ]
  }
 ],
 "metadata": {
  "kernelspec": {
   "display_name": "bvenv",
   "language": "python",
   "name": "python3"
  },
  "language_info": {
   "codemirror_mode": {
    "name": "ipython",
    "version": 3
   },
   "file_extension": ".py",
   "mimetype": "text/x-python",
   "name": "python",
   "nbconvert_exporter": "python",
   "pygments_lexer": "ipython3",
   "version": "3.13.7"
  }
 },
 "nbformat": 4,
 "nbformat_minor": 5
}
