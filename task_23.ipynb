{
 "cells": [
  {
   "cell_type": "code",
   "execution_count": null,
   "id": "a3a9ae02",
   "metadata": {},
   "outputs": [],
   "source": [
    "from pydantic import BaseModel, Field,field_validator, ValidationError\n",
    "from datetime import datetime"
   ]
  },
  {
   "cell_type": "code",
   "execution_count": null,
   "id": "e2da8150",
   "metadata": {},
   "outputs": [],
   "source": [
    "class TwitterReview(BaseModel):\n",
    "    username: str = Field(..., min_length=3,max_length=12, pattern =r\"^[A-Za-z0-9_]+$\")\n",
    "    @field_validator(\"username\")\n",
    "    def username_cannot_be(cls,v):\n",
    "        if v.islower() in {\"admin\", \"Twitter\"}:\n",
    "            raise ValueError(\"Username cannot be admin or twiter\")\n",
    "    free_act_post: str = Field(min_length=2, max_length=150,pattern =r\"^[\\s\\S]+$\")\n",
    "    prem_acct_post: str = Field(min_length=2, max_length=150,pattern =r\"^[\\s\\S]+$\")\n",
    "    created_at: datetime = Field(default_factory=datetime.now)\n",
    "    is_active: bool = Field(default=True)"
   ]
  }
 ],
 "metadata": {
  "kernelspec": {
   "display_name": "bvenv",
   "language": "python",
   "name": "python3"
  },
  "language_info": {
   "codemirror_mode": {
    "name": "ipython",
    "version": 3
   },
   "file_extension": ".py",
   "mimetype": "text/x-python",
   "name": "python",
   "nbconvert_exporter": "python",
   "pygments_lexer": "ipython3",
   "version": "3.13.7"
  }
 },
 "nbformat": 4,
 "nbformat_minor": 5
}
