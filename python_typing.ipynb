{
 "cells": [
  {
   "cell_type": "code",
   "execution_count": 4,
   "id": "df37e622",
   "metadata": {},
   "outputs": [],
   "source": [
    "def get_fellows_names(fellow: list[str]) -> list[str]:\n",
    "    return fellow"
   ]
  },
  {
   "cell_type": "markdown",
   "id": "8796a7d8",
   "metadata": {},
   "source": []
  },
  {
   "cell_type": "code",
   "execution_count": 5,
   "id": "66d2304b",
   "metadata": {},
   "outputs": [],
   "source": [
    "def get_average(name:str, scores: list[float]) -> float:\n",
    "    average_score = sum(scores)/len(scores)\n",
    "    print(f\"{name}'s average score is {average_score}\")\n",
    "    return average_score"
   ]
  },
  {
   "cell_type": "code",
   "execution_count": 6,
   "id": "aebaec75",
   "metadata": {},
   "outputs": [
    {
     "data": {
      "text/plain": [
       "6.0"
      ]
     },
     "execution_count": 6,
     "metadata": {},
     "output_type": "execute_result"
    }
   ],
   "source": [
    "def add(a: int, b: int) -> int:\n",
    "    return a +b\n",
    "\n",
    "add(3.2,2.8)"
   ]
  },
  {
   "cell_type": "code",
   "execution_count": 7,
   "id": "ad457aa3",
   "metadata": {},
   "outputs": [],
   "source": [
    "from typing import List, Dict, Union, Optional\n",
    "\n",
    "\n",
    "def process_scores(\n",
    "    scores: List[int],\n",
    "    info: Dict[str,Union[int,float]],\n",
    "    comment: Optional[str] = None) -> None:\n",
    "    print(\"Scores:\",scores)\n",
    "    print(\"Info:\",info)\n",
    "    if comment:\n",
    "        print(\"Comment:\",comment)\n"
   ]
  },
  {
   "cell_type": "code",
   "execution_count": 8,
   "id": "c04c4a1b",
   "metadata": {},
   "outputs": [],
   "source": [
    "from typing import Union\n",
    "def get_fellow_id(id: Union[int, str]) -> str:\n",
    "    return f\"fellow ID: {id}\""
   ]
  },
  {
   "cell_type": "code",
   "execution_count": 9,
   "id": "683449b9",
   "metadata": {},
   "outputs": [
    {
     "name": "stdout",
     "output_type": "stream",
     "text": [
      "fellow ID: 42\n",
      "fellow ID: 42\n"
     ]
    }
   ],
   "source": [
    "print(get_fellow_id(42))\n",
    "print(get_fellow_id(\"42\"))"
   ]
  },
  {
   "cell_type": "code",
   "execution_count": 10,
   "id": "20be056e",
   "metadata": {},
   "outputs": [
    {
     "name": "stdout",
     "output_type": "stream",
     "text": [
      "fellow ID: 42.0\n"
     ]
    }
   ],
   "source": [
    "print(get_fellow_id(42.0))"
   ]
  },
  {
   "cell_type": "code",
   "execution_count": 11,
   "id": "ad6f111b",
   "metadata": {},
   "outputs": [],
   "source": [
    "\n",
    "def get_fellow_id(id: int | str) -> str:\n",
    "    return f\"fellow ID: {id}\""
   ]
  },
  {
   "cell_type": "code",
   "execution_count": 12,
   "id": "37a1e31d",
   "metadata": {},
   "outputs": [],
   "source": [
    "def format_address(house_number: int | str, street: str) -> str:\n",
    "    return f\"{house_number} {street}\""
   ]
  },
  {
   "cell_type": "code",
   "execution_count": 13,
   "id": "be7d93fd",
   "metadata": {},
   "outputs": [
    {
     "name": "stdout",
     "output_type": "stream",
     "text": [
      "23 Ajelogo Street\n",
      "23B Ajelogo Street\n"
     ]
    }
   ],
   "source": [
    "print(format_address(23, \"Ajelogo Street\"))   # 23 Ajelogo Street\n",
    "print(format_address(\"23B\", \"Ajelogo Street\")) # 23B Ajelogo Street\n"
   ]
  },
  {
   "cell_type": "code",
   "execution_count": 14,
   "id": "4dc472c3",
   "metadata": {},
   "outputs": [],
   "source": [
    "def greet(first_name: str, last_name: Optional[str] = None) -> None:\n",
    "    if last_name:\n",
    "        print(f\"Helloo {first_name} {last_name}\")\n",
    "    else:\n",
    "        print(f\"Hello {first_name}\")\n"
   ]
  },
  {
   "cell_type": "code",
   "execution_count": 15,
   "id": "dab900b3",
   "metadata": {},
   "outputs": [
    {
     "name": "stdout",
     "output_type": "stream",
     "text": [
      "Helloo Toyeebat Arike\n",
      "Hello Toyeebat\n"
     ]
    }
   ],
   "source": [
    "greet(\"Toyeebat\", \"Arike\")   \n",
    "greet(\"Toyeebat\") "
   ]
  },
  {
   "cell_type": "code",
   "execution_count": 16,
   "id": "da0d702a",
   "metadata": {},
   "outputs": [],
   "source": [
    "def find_user(username: str) -> Optional[dict]:\n",
    "    if username == \"admin\":\n",
    "        return {\"username\": \"admin\", \"role\": \"superuser\"}\n",
    "    return None"
   ]
  },
  {
   "cell_type": "code",
   "execution_count": 17,
   "id": "b1113a6e",
   "metadata": {},
   "outputs": [
    {
     "data": {
      "text/plain": [
       "{'username': 'admin', 'role': 'superuser'}"
      ]
     },
     "execution_count": 17,
     "metadata": {},
     "output_type": "execute_result"
    }
   ],
   "source": [
    "find_user(\"admin\")\n"
   ]
  },
  {
   "cell_type": "code",
   "execution_count": 19,
   "id": "51cc7081",
   "metadata": {},
   "outputs": [],
   "source": [
    "find_user(\"tee\")"
   ]
  },
  {
   "cell_type": "code",
   "execution_count": 20,
   "id": "ff24e048",
   "metadata": {},
   "outputs": [],
   "source": [
    "fellow_scores: Dict[str, int] = {\n",
    "    \"David\": 89,\n",
    "    \"Micheal\": 98\n",
    "}"
   ]
  },
  {
   "cell_type": "code",
   "execution_count": 21,
   "id": "aa926350",
   "metadata": {},
   "outputs": [],
   "source": [
    "from typing import Tuple\n",
    "fellow: Tuple[str, int, str] = (\"Perpetual\",88,\"AI Engineering\")"
   ]
  },
  {
   "cell_type": "code",
   "execution_count": 22,
   "id": "6e00dd43",
   "metadata": {},
   "outputs": [],
   "source": [
    "%%capture\n",
    "%pip install pydantic"
   ]
  },
  {
   "cell_type": "code",
   "execution_count": 23,
   "id": "e0c5bb84",
   "metadata": {},
   "outputs": [],
   "source": [
    "# importing pydantic\n",
    "from pydantic import BaseModel"
   ]
  },
  {
   "cell_type": "code",
   "execution_count": 24,
   "id": "a30e368e",
   "metadata": {},
   "outputs": [],
   "source": [
    "class Fellow(BaseModel):\n",
    "    name : str\n",
    "    score: int\n",
    "    track : str"
   ]
  },
  {
   "cell_type": "code",
   "execution_count": 25,
   "id": "d25cde7c",
   "metadata": {},
   "outputs": [
    {
     "data": {
      "text/plain": [
       "Fellow(name='Perpetual', score=88, track='AI Engineering')"
      ]
     },
     "execution_count": 25,
     "metadata": {},
     "output_type": "execute_result"
    }
   ],
   "source": [
    "Fellow(name=\"Perpetual\", score=88, track=\"AI Engineering\")"
   ]
  },
  {
   "cell_type": "code",
   "execution_count": 26,
   "id": "6bbd7d20",
   "metadata": {},
   "outputs": [
    {
     "ename": "ValidationError",
     "evalue": "1 validation error for Fellow\nscore\n  Input should be a valid integer, unable to parse string as an integer [type=int_parsing, input_value='eighty-seven', input_type=str]\n    For further information visit https://errors.pydantic.dev/2.12/v/int_parsing",
     "output_type": "error",
     "traceback": [
      "\u001b[31m---------------------------------------------------------------------------\u001b[39m",
      "\u001b[31mValidationError\u001b[39m                           Traceback (most recent call last)",
      "\u001b[36mCell\u001b[39m\u001b[36m \u001b[39m\u001b[32mIn[26]\u001b[39m\u001b[32m, line 1\u001b[39m\n\u001b[32m----> \u001b[39m\u001b[32m1\u001b[39m \u001b[43mFellow\u001b[49m\u001b[43m(\u001b[49m\u001b[43mname\u001b[49m\u001b[43m=\u001b[49m\u001b[43m \u001b[49m\u001b[33;43m\"\u001b[39;49m\u001b[33;43mZach\u001b[39;49m\u001b[33;43m\"\u001b[39;49m\u001b[43m,\u001b[49m\u001b[43m \u001b[49m\u001b[43mscore\u001b[49m\u001b[43m \u001b[49m\u001b[43m=\u001b[49m\u001b[43m \u001b[49m\u001b[33;43m\"\u001b[39;49m\u001b[33;43meighty-seven\u001b[39;49m\u001b[33;43m\"\u001b[39;49m\u001b[43m,\u001b[49m\u001b[43m \u001b[49m\u001b[43mtrack\u001b[49m\u001b[43m=\u001b[49m\u001b[33;43m\"\u001b[39;49m\u001b[33;43mAI Engineering\u001b[39;49m\u001b[33;43m\"\u001b[39;49m\u001b[43m)\u001b[49m \u001b[38;5;66;03m# This will raise error\u001b[39;00m\n",
      "\u001b[36mFile \u001b[39m\u001b[32mc:\\Users\\ncc\\Desktop\\Backend\\bvenv\\Lib\\site-packages\\pydantic\\main.py:250\u001b[39m, in \u001b[36mBaseModel.__init__\u001b[39m\u001b[34m(self, **data)\u001b[39m\n\u001b[32m    248\u001b[39m \u001b[38;5;66;03m# `__tracebackhide__` tells pytest and some other tools to omit this function from tracebacks\u001b[39;00m\n\u001b[32m    249\u001b[39m __tracebackhide__ = \u001b[38;5;28;01mTrue\u001b[39;00m\n\u001b[32m--> \u001b[39m\u001b[32m250\u001b[39m validated_self = \u001b[38;5;28;43mself\u001b[39;49m\u001b[43m.\u001b[49m\u001b[43m__pydantic_validator__\u001b[49m\u001b[43m.\u001b[49m\u001b[43mvalidate_python\u001b[49m\u001b[43m(\u001b[49m\u001b[43mdata\u001b[49m\u001b[43m,\u001b[49m\u001b[43m \u001b[49m\u001b[43mself_instance\u001b[49m\u001b[43m=\u001b[49m\u001b[38;5;28;43mself\u001b[39;49m\u001b[43m)\u001b[49m\n\u001b[32m    251\u001b[39m \u001b[38;5;28;01mif\u001b[39;00m \u001b[38;5;28mself\u001b[39m \u001b[38;5;129;01mis\u001b[39;00m \u001b[38;5;129;01mnot\u001b[39;00m validated_self:\n\u001b[32m    252\u001b[39m     warnings.warn(\n\u001b[32m    253\u001b[39m         \u001b[33m'\u001b[39m\u001b[33mA custom validator is returning a value other than `self`.\u001b[39m\u001b[38;5;130;01m\\n\u001b[39;00m\u001b[33m'\u001b[39m\n\u001b[32m    254\u001b[39m         \u001b[33m\"\u001b[39m\u001b[33mReturning anything other than `self` from a top level model validator isn\u001b[39m\u001b[33m'\u001b[39m\u001b[33mt supported when validating via `__init__`.\u001b[39m\u001b[38;5;130;01m\\n\u001b[39;00m\u001b[33m\"\u001b[39m\n\u001b[32m    255\u001b[39m         \u001b[33m'\u001b[39m\u001b[33mSee the `model_validator` docs (https://docs.pydantic.dev/latest/concepts/validators/#model-validators) for more details.\u001b[39m\u001b[33m'\u001b[39m,\n\u001b[32m    256\u001b[39m         stacklevel=\u001b[32m2\u001b[39m,\n\u001b[32m    257\u001b[39m     )\n",
      "\u001b[31mValidationError\u001b[39m: 1 validation error for Fellow\nscore\n  Input should be a valid integer, unable to parse string as an integer [type=int_parsing, input_value='eighty-seven', input_type=str]\n    For further information visit https://errors.pydantic.dev/2.12/v/int_parsing"
     ]
    }
   ],
   "source": [
    "Fellow(name= \"Zach\", score = \"eighty-seven\", track=\"AI Engineering\") # This will raise error"
   ]
  },
  {
   "cell_type": "code",
   "execution_count": null,
   "id": "0e8ddc08",
   "metadata": {},
   "outputs": [
    {
     "name": "stdout",
     "output_type": "stream",
     "text": [
      "<class 'int'>\n"
     ]
    }
   ],
   "source": [
    "#2. parsing and type conversion - It automatically converts compatible types \n",
    "# It reads and interprete data\n",
    "\n",
    "p = Fellow(name = \"Perpetual\", score = \"88\", track = \"AI Engineering\")\n",
    "print(type(p.score))\n"
   ]
  },
  {
   "cell_type": "code",
   "execution_count": 28,
   "id": "70748643",
   "metadata": {},
   "outputs": [
    {
     "name": "stdout",
     "output_type": "stream",
     "text": [
      "name='Blessing' score=100 track='AI Engineering '\n",
      "<class 'int'>\n"
     ]
    }
   ],
   "source": [
    "# an incomming data\n",
    "data= {\"name\":\"Blessing\", \"score\": \"100\", \"track\":\"AI Engineering \"}\n",
    "\n",
    "#pydantic will parse it like this\n",
    "fellow = Fellow(**data)\n",
    "\n",
    "print(fellow)\n",
    "print(type(fellow.score))"
   ]
  },
  {
   "cell_type": "code",
   "execution_count": 33,
   "id": "f664bc26",
   "metadata": {},
   "outputs": [
    {
     "name": "stdout",
     "output_type": "stream",
     "text": [
      "{'name': 'Perpetual', 'score': 88, 'track': 'AI Engineering'}\n"
     ]
    }
   ],
   "source": [
    "# print(p.json())\n",
    "print(p.model_dump())"
   ]
  },
  {
   "cell_type": "code",
   "execution_count": 32,
   "id": "03b8d6c8",
   "metadata": {},
   "outputs": [
    {
     "name": "stdout",
     "output_type": "stream",
     "text": [
      "{'name': 'Perpetual', 'score': 88, 'track': 'AI Engineering'}\n"
     ]
    }
   ],
   "source": [
    "# print(p.dict())p=\n",
    "print(p.model_dump())\n"
   ]
  },
  {
   "cell_type": "code",
   "execution_count": 34,
   "id": "6d8ac3c9",
   "metadata": {},
   "outputs": [],
   "source": [
    "class Address(BaseModel):\n",
    "    street : str\n",
    "    city : str\n",
    "    state: str\n",
    "    country : str\n",
    "\n",
    "class Fellow(BaseModel):\n",
    "    name: str\n",
    "    score: int\n",
    "    track: str\n",
    "    address : Address\n"
   ]
  },
  {
   "cell_type": "code",
   "execution_count": 35,
   "id": "465512b8",
   "metadata": {},
   "outputs": [
    {
     "name": "stdout",
     "output_type": "stream",
     "text": [
      "name='Mamwa' score=88 track='AI Engineering' address=Address(street='Ajelogo Street', city='Ketu', state='Lagos', country='Nigeria')\n"
     ]
    }
   ],
   "source": [
    "data = {\n",
    "    \"name\":\"Mamwa\",\n",
    "    \"score\": 88,\n",
    "    \"track\": \"AI Engineering\",\n",
    "\n",
    "    \"address\": {\n",
    "        \"street\": \"Ajelogo Street\",\n",
    "        \"city\": \"Ketu\",\n",
    "        \"state\": \"Lagos\",\n",
    "        \"country\": \"Nigeria\"\n",
    "    }\n",
    "}\n",
    "\n",
    "# pydantic  will parse it like this\n",
    "fellow = Fellow(**data)\n",
    "print(fellow)"
   ]
  },
  {
   "cell_type": "code",
   "execution_count": 36,
   "id": "60a64a1b",
   "metadata": {},
   "outputs": [
    {
     "name": "stdout",
     "output_type": "stream",
     "text": [
      "Ajelogo Street\n"
     ]
    }
   ],
   "source": [
    "print(fellow.address.street)"
   ]
  },
  {
   "cell_type": "code",
   "execution_count": 38,
   "id": "5f3f1da5",
   "metadata": {},
   "outputs": [
    {
     "name": "stdout",
     "output_type": "stream",
     "text": [
      "{'name': 'Mamwa', 'score': 88, 'track': 'AI Engineering', 'address': {'street': 'Ajelogo Street', 'city': 'Ketu', 'state': 'Lagos', 'country': 'Nigeria'}}\n"
     ]
    }
   ],
   "source": [
    "print(fellow.model_dump())"
   ]
  },
  {
   "cell_type": "code",
   "execution_count": 39,
   "id": "fed8e58f",
   "metadata": {},
   "outputs": [
    {
     "name": "stdout",
     "output_type": "stream",
     "text": [
      "{\"name\":\"Mamwa\",\"score\":88,\"track\":\"AI Engineering\",\"address\":{\"street\":\"Ajelogo Street\",\"city\":\"Ketu\",\"state\":\"Lagos\",\"country\":\"Nigeria\"}}\n"
     ]
    }
   ],
   "source": [
    "print(fellow.model_dump_json())"
   ]
  },
  {
   "cell_type": "code",
   "execution_count": 40,
   "id": "f4627fbd",
   "metadata": {},
   "outputs": [],
   "source": [
    "from typing import List\n",
    "from pydantic import BaseModel\n",
    "\n",
    "class Fellow(BaseModel):\n",
    "    name: str\n",
    "    score: int\n",
    "    track: str\n",
    "    addresses: List[Address]"
   ]
  },
  {
   "cell_type": "code",
   "execution_count": 41,
   "id": "94ff58d3",
   "metadata": {},
   "outputs": [
    {
     "name": "stdout",
     "output_type": "stream",
     "text": [
      "name='Perpetual' score=88 track='AI Engineering' addresses=[Address(street='Idoroko Road', city='Sango', state='Lagos', country='Nigeria'), Address(street='Kobape', city='Abeokuta', state='Ogun', country='Nigeria')]\n"
     ]
    }
   ],
   "source": [
    "data = {\n",
    "     \"name\": \"Perpetual\",\n",
    "    \"score\": 88,\n",
    "    \"track\": \"AI Engineering\",\n",
    "    \"addresses\":[\n",
    "        {\"street\": \"Idoroko Road\", \"city\": \"Sango\", \"state\": \"Lagos\",\n",
    "        \"country\": \"Nigeria\"},\n",
    "        {\"street\": \"Kobape\", \"city\": \"Abeokuta\", \"state\": \"Ogun\",\n",
    "        \"country\": \"Nigeria\"}\n",
    "    ]\n",
    "\n",
    "}\n",
    "\n",
    "\n",
    "fellow = Fellow(**data)\n",
    "print(fellow)"
   ]
  },
  {
   "cell_type": "code",
   "execution_count": 42,
   "id": "806996b6",
   "metadata": {},
   "outputs": [
    {
     "name": "stdout",
     "output_type": "stream",
     "text": [
      "Sango\n",
      "Abeokuta\n"
     ]
    }
   ],
   "source": [
    "# Accessing the nested Items\n",
    "\n",
    "print(fellow.addresses[0].city)\n",
    "print(fellow.addresses[1].city)"
   ]
  },
  {
   "cell_type": "code",
   "execution_count": 45,
   "id": "64b09ebc",
   "metadata": {},
   "outputs": [
    {
     "name": "stdout",
     "output_type": "stream",
     "text": [
      "{\"name\":\"Perpetual\",\"score\":88,\"track\":\"AI Engineering\",\"addresses\":[{\"street\":\"Idoroko Road\",\"city\":\"Sango\",\"state\":\"Lagos\",\"country\":\"Nigeria\"},{\"street\":\"Kobape\",\"city\":\"Abeokuta\",\"state\":\"Ogun\",\"country\":\"Nigeria\"}]}\n",
      "{\"name\":\"Perpetual\",\"score\":88,\"track\":\"AI Engineering\",\"addresses\":[{\"street\":\"Idoroko Road\",\"city\":\"Sango\",\"state\":\"Lagos\",\"country\":\"Nigeria\"},{\"street\":\"Kobape\",\"city\":\"Abeokuta\",\"state\":\"Ogun\",\"country\":\"Nigeria\"}]}\n",
      "\n",
      "\n",
      "{'name': 'Perpetual', 'score': 88, 'track': 'AI Engineering', 'addresses': [{'street': 'Idoroko Road', 'city': 'Sango', 'state': 'Lagos', 'country': 'Nigeria'}, {'street': 'Kobape', 'city': 'Abeokuta', 'state': 'Ogun', 'country': 'Nigeria'}]}\n",
      "{'name': 'Perpetual', 'score': 88, 'track': 'AI Engineering', 'addresses': [{'street': 'Idoroko Road', 'city': 'Sango', 'state': 'Lagos', 'country': 'Nigeria'}, {'street': 'Kobape', 'city': 'Abeokuta', 'state': 'Ogun', 'country': 'Nigeria'}]}\n"
     ]
    },
    {
     "name": "stderr",
     "output_type": "stream",
     "text": [
      "C:\\Users\\ncc\\AppData\\Local\\Temp\\ipykernel_2096\\30710420.py:1: PydanticDeprecatedSince20: The `json` method is deprecated; use `model_dump_json` instead. Deprecated in Pydantic V2.0 to be removed in V3.0. See Pydantic V2 Migration Guide at https://errors.pydantic.dev/2.12/migration/\n",
      "  print(fellow.json())\n",
      "C:\\Users\\ncc\\AppData\\Local\\Temp\\ipykernel_2096\\30710420.py:4: PydanticDeprecatedSince20: The `dict` method is deprecated; use `model_dump` instead. Deprecated in Pydantic V2.0 to be removed in V3.0. See Pydantic V2 Migration Guide at https://errors.pydantic.dev/2.12/migration/\n",
      "  print(fellow.dict())\n"
     ]
    }
   ],
   "source": [
    "print(fellow.json())\n",
    "print(fellow.model_dump_json())\n",
    "print(\"\\n\")\n",
    "print(fellow.dict())\n",
    "print(fellow.model_dump())"
   ]
  },
  {
   "cell_type": "markdown",
   "id": "1925b33d",
   "metadata": {},
   "source": [
    "**Understanding Validation**\n"
   ]
  },
  {
   "cell_type": "code",
   "execution_count": 47,
   "id": "6622c1f2",
   "metadata": {},
   "outputs": [
    {
     "name": "stdout",
     "output_type": "stream",
     "text": [
      "name='Micheal' score=-79 addresses=[Address(street='123 Marose St', city='Ikorodu'), Address(street='4 Babatunde Ave', city='Abioloa Way')]\n"
     ]
    }
   ],
   "source": [
    "from typing import List\n",
    "from pydantic import BaseModel\n",
    "\n",
    "class Address(BaseModel):\n",
    "    street: str\n",
    "    city: str\n",
    "\n",
    "class Fellow(BaseModel):\n",
    "    name: str\n",
    "    score: int\n",
    "    addresses: List[Address]\n",
    "\n",
    "\n",
    "data = {\n",
    "    \"name\":\"Micheal\",\n",
    "    \"score\":-79,\n",
    "    \"addresses\":[\n",
    "      {\"street\": \"123 Marose St\", \"city\": \"Ikorodu\"},\n",
    "        {\"street\": \"4 Babatunde Ave\", \"city\": \"Abioloa Way\"}\n",
    "    ]\n",
    "}\n",
    "\n",
    "fellow = Fellow(**data)\n",
    "print(fellow)"
   ]
  },
  {
   "cell_type": "code",
   "execution_count": 48,
   "id": "e1e55190",
   "metadata": {},
   "outputs": [],
   "source": [
    "from pydantic import BaseModel, Field\n",
    "from typing import List\n",
    "\n",
    "\n",
    "class Address(BaseModel):\n",
    "    street: str\n",
    "    city: str\n",
    "\n",
    "class Fellow(BaseModel):\n",
    "    name: str\n",
    "    score: int = Field(..., ge=0, le=100)\n",
    "    addresses: List[Address]"
   ]
  },
  {
   "cell_type": "code",
   "execution_count": 49,
   "id": "01025464",
   "metadata": {},
   "outputs": [
    {
     "ename": "ValidationError",
     "evalue": "1 validation error for Fellow\nscore\n  Input should be greater than or equal to 0 [type=greater_than_equal, input_value=-40, input_type=int]\n    For further information visit https://errors.pydantic.dev/2.12/v/greater_than_equal",
     "output_type": "error",
     "traceback": [
      "\u001b[31m---------------------------------------------------------------------------\u001b[39m",
      "\u001b[31mValidationError\u001b[39m                           Traceback (most recent call last)",
      "\u001b[36mCell\u001b[39m\u001b[36m \u001b[39m\u001b[32mIn[49]\u001b[39m\u001b[32m, line 1\u001b[39m\n\u001b[32m----> \u001b[39m\u001b[32m1\u001b[39m \u001b[43mFellow\u001b[49m\u001b[43m(\u001b[49m\u001b[43mname\u001b[49m\u001b[43m=\u001b[49m\u001b[33;43m\"\u001b[39;49m\u001b[33;43mHassan\u001b[39;49m\u001b[33;43m\"\u001b[39;49m\u001b[43m,\u001b[49m\u001b[43m \u001b[49m\u001b[43mscore\u001b[49m\u001b[43m=\u001b[49m\u001b[43m-\u001b[49m\u001b[32;43m40\u001b[39;49m\u001b[43m,\u001b[49m\u001b[43maddresses\u001b[49m\u001b[43m=\u001b[49m\u001b[43m[\u001b[49m\u001b[43m]\u001b[49m\u001b[43m)\u001b[49m\n",
      "\u001b[36mFile \u001b[39m\u001b[32mc:\\Users\\ncc\\Desktop\\Backend\\bvenv\\Lib\\site-packages\\pydantic\\main.py:250\u001b[39m, in \u001b[36mBaseModel.__init__\u001b[39m\u001b[34m(self, **data)\u001b[39m\n\u001b[32m    248\u001b[39m \u001b[38;5;66;03m# `__tracebackhide__` tells pytest and some other tools to omit this function from tracebacks\u001b[39;00m\n\u001b[32m    249\u001b[39m __tracebackhide__ = \u001b[38;5;28;01mTrue\u001b[39;00m\n\u001b[32m--> \u001b[39m\u001b[32m250\u001b[39m validated_self = \u001b[38;5;28;43mself\u001b[39;49m\u001b[43m.\u001b[49m\u001b[43m__pydantic_validator__\u001b[49m\u001b[43m.\u001b[49m\u001b[43mvalidate_python\u001b[49m\u001b[43m(\u001b[49m\u001b[43mdata\u001b[49m\u001b[43m,\u001b[49m\u001b[43m \u001b[49m\u001b[43mself_instance\u001b[49m\u001b[43m=\u001b[49m\u001b[38;5;28;43mself\u001b[39;49m\u001b[43m)\u001b[49m\n\u001b[32m    251\u001b[39m \u001b[38;5;28;01mif\u001b[39;00m \u001b[38;5;28mself\u001b[39m \u001b[38;5;129;01mis\u001b[39;00m \u001b[38;5;129;01mnot\u001b[39;00m validated_self:\n\u001b[32m    252\u001b[39m     warnings.warn(\n\u001b[32m    253\u001b[39m         \u001b[33m'\u001b[39m\u001b[33mA custom validator is returning a value other than `self`.\u001b[39m\u001b[38;5;130;01m\\n\u001b[39;00m\u001b[33m'\u001b[39m\n\u001b[32m    254\u001b[39m         \u001b[33m\"\u001b[39m\u001b[33mReturning anything other than `self` from a top level model validator isn\u001b[39m\u001b[33m'\u001b[39m\u001b[33mt supported when validating via `__init__`.\u001b[39m\u001b[38;5;130;01m\\n\u001b[39;00m\u001b[33m\"\u001b[39m\n\u001b[32m    255\u001b[39m         \u001b[33m'\u001b[39m\u001b[33mSee the `model_validator` docs (https://docs.pydantic.dev/latest/concepts/validators/#model-validators) for more details.\u001b[39m\u001b[33m'\u001b[39m,\n\u001b[32m    256\u001b[39m         stacklevel=\u001b[32m2\u001b[39m,\n\u001b[32m    257\u001b[39m     )\n",
      "\u001b[31mValidationError\u001b[39m: 1 validation error for Fellow\nscore\n  Input should be greater than or equal to 0 [type=greater_than_equal, input_value=-40, input_type=int]\n    For further information visit https://errors.pydantic.dev/2.12/v/greater_than_equal"
     ]
    }
   ],
   "source": [
    "Fellow(name=\"Hassan\", score=-40,addresses=[])"
   ]
  },
  {
   "cell_type": "code",
   "execution_count": 50,
   "id": "367c7481",
   "metadata": {},
   "outputs": [
    {
     "data": {
      "text/plain": [
       "Fellow(name='Hassan', score=80, addresses=[])"
      ]
     },
     "execution_count": 50,
     "metadata": {},
     "output_type": "execute_result"
    }
   ],
   "source": [
    "Fellow(name=\"Hassan\", score=80, addresses=[])"
   ]
  },
  {
   "cell_type": "markdown",
   "id": "f4693132",
   "metadata": {},
   "source": [
    "**Custom Validation**\n",
    "\n",
    "You can also write custom validation logic using a `@validator` decorator."
   ]
  },
  {
   "cell_type": "code",
   "execution_count": 51,
   "id": "d0686ed9",
   "metadata": {},
   "outputs": [],
   "source": [
    "from pydantic import BaseModel, Field, field_validator\n",
    "\n",
    "class Person(BaseModel):\n",
    "    name: str\n",
    "    age: int = Field(..., ge=0)\n",
    "\n",
    "    @field_validator(\"name\")\n",
    "    def name_must_start_with_capital(cls, v):\n",
    "        if not v[0].isupper():\n",
    "            raise ValueError(\"Name must with a capital letter\")\n",
    "        return v"
   ]
  },
  {
   "cell_type": "code",
   "execution_count": 53,
   "id": "67d42cda",
   "metadata": {},
   "outputs": [
    {
     "data": {
      "text/plain": [
       "Person(name='Solomon', age=20)"
      ]
     },
     "execution_count": 53,
     "metadata": {},
     "output_type": "execute_result"
    }
   ],
   "source": [
    "Person(name=\"Solomon\", age=20)\n"
   ]
  },
  {
   "cell_type": "code",
   "execution_count": 75,
   "id": "553d3772",
   "metadata": {},
   "outputs": [],
   "source": [
    "from datetime import datetime\n",
    "from decimal import Decimal\n",
    "from pydantic import BaseModel, Field, ValidationError\n",
    "\n",
    "\n",
    "# lets create the model here\n",
    "class ProductReview(BaseModel):\n",
    "    review_id: int = Field(..., gt=0, lt=10000)\n",
    "    username: str = Field(...,min_length=3, max_length=12,pattern=r\"^[A-Za-z0-9_]+$\")\n",
    "    scores: List[int] = Field(...,min_length=3, max_length=5)\n",
    "    price: Decimal = Field(...,gt=0,max_digits=6, decimal_places=2)\n",
    "    is_active: bool = Field(default=False)\n",
    "    rating: float = Field(..., ge=0, le=5, multiple_of=0.5)\n",
    "    created_at: datetime = Field(default_factory=datetime.now)\n",
    "\n"
   ]
  },
  {
   "cell_type": "code",
   "execution_count": 61,
   "id": "bfc5a923",
   "metadata": {},
   "outputs": [
    {
     "name": "stdout",
     "output_type": "stream",
     "text": [
      "Interger Field Validation\n"
     ]
    }
   ],
   "source": [
    "def demo_int_field():\n",
    "    print(\"Interger Field Validation\")\n",
    "    try:\n",
    "        ProductReview(review_id= 2, username=\"shabi\",scores=[4,5,5],price=Decimal(\"10.00\"), rating=4.5)\n",
    "    except ValidationError as e:\n",
    "        print(e)\n",
    "demo_int_field()"
   ]
  },
  {
   "cell_type": "code",
   "execution_count": 66,
   "id": "df27585f",
   "metadata": {},
   "outputs": [
    {
     "name": "stdout",
     "output_type": "stream",
     "text": [
      "String Field Validation\n"
     ]
    }
   ],
   "source": [
    "def demo_str_field():\n",
    "    print(\"String Field Validation\")\n",
    "    try:\n",
    "        ProductReview(review_id=1, username=\"A_a\", scores=[4, 5, 5], price=Decimal(\"20.00\"), rating=4.0)\n",
    "    except ValidationError as e:\n",
    "        print(e)\n",
    "\n",
    "demo_str_field()"
   ]
  },
  {
   "cell_type": "code",
   "execution_count": 68,
   "id": "8dfefa3d",
   "metadata": {},
   "outputs": [
    {
     "name": "stdout",
     "output_type": "stream",
     "text": [
      "\n",
      " List Field Validation\n"
     ]
    }
   ],
   "source": [
    "def demo_list_field():\n",
    "    print(\"\\n List Field Validation\")\n",
    "    try:\n",
    "        ProductReview(review_id=2, username=\"ChrisDev\",scores=[5,7,8],price=Decimal(\"30.00\"), rating=3.5)\n",
    "    except ValidationError as e:\n",
    "        print(e)\n",
    "\n",
    "demo_list_field()"
   ]
  },
  {
   "cell_type": "code",
   "execution_count": 70,
   "id": "1f8fa346",
   "metadata": {},
   "outputs": [
    {
     "name": "stdout",
     "output_type": "stream",
     "text": [
      "\n",
      " Decimal Field Validation\n"
     ]
    }
   ],
   "source": [
    "def demo_decimal_field():\n",
    "    print(\"\\n Decimal Field Validation\")\n",
    "    try:\n",
    "        ProductReview(review_id=3,username=\"Tester\", scores=[4,4,5], price=Decimal(\"10.00\"),rating=4.5)\n",
    "    except ValidationError as e:\n",
    "        print(e)\n",
    "\n",
    "demo_decimal_field()"
   ]
  },
  {
   "cell_type": "code",
   "execution_count": 72,
   "id": "ac43d871",
   "metadata": {},
   "outputs": [
    {
     "name": "stdout",
     "output_type": "stream",
     "text": [
      "\n",
      " Float Field Validation\n"
     ]
    }
   ],
   "source": [
    "def demo_decimal_field():\n",
    "    print(\"\\n Float Field Validation\")\n",
    "    try:\n",
    "        ProductReview(review_id=4,username=\"Smart\", scores=[4,4,5], price=Decimal(\"10.00\"),rating=4.5)\n",
    "    except ValidationError as e:\n",
    "        print(e)\n",
    "\n",
    "demo_decimal_field()"
   ]
  },
  {
   "cell_type": "code",
   "execution_count": 76,
   "id": "fe76f68d",
   "metadata": {},
   "outputs": [
    {
     "name": "stdout",
     "output_type": "stream",
     "text": [
      "\n",
      " Booleab Field Validation\n",
      "is_active = False\n"
     ]
    }
   ],
   "source": [
    "def demo_bool_field():\n",
    "    print(\"\\n Booleab Field Validation\")\n",
    "    product = ProductReview(\n",
    "        review_id=4,\n",
    "        username=\"Smart\",  \n",
    "        scores=[4,4,5], \n",
    "        price=Decimal(\"10.00\"),\n",
    "        rating=4.5\n",
    "        )\n",
    "    print(\"is_active =\", product.is_active)\n",
    "\n",
    "demo_bool_field()"
   ]
  },
  {
   "cell_type": "code",
   "execution_count": 77,
   "id": "361f2a2e",
   "metadata": {},
   "outputs": [
    {
     "name": "stdout",
     "output_type": "stream",
     "text": [
      "\n",
      " Datetime Field Validation\n",
      "created_at = 2025-10-15 15:31:48.954488\n"
     ]
    }
   ],
   "source": [
    "def demo_datetime_field():\n",
    "    print(\"\\n Datetime Field Validation\")\n",
    "    product = ProductReview(\n",
    "        review_id=4,\n",
    "        username=\"Smart\",  \n",
    "        scores=[4,4,5], \n",
    "        price=Decimal(\"10.00\"),\n",
    "        rating=4.5\n",
    "        )\n",
    "    print(\"created_at =\", product.created_at)\n",
    "\n",
    "demo_datetime_field()"
   ]
  }
 ],
 "metadata": {
  "kernelspec": {
   "display_name": "bvenv",
   "language": "python",
   "name": "python3"
  },
  "language_info": {
   "codemirror_mode": {
    "name": "ipython",
    "version": 3
   },
   "file_extension": ".py",
   "mimetype": "text/x-python",
   "name": "python",
   "nbconvert_exporter": "python",
   "pygments_lexer": "ipython3",
   "version": "3.13.7"
  }
 },
 "nbformat": 4,
 "nbformat_minor": 5
}
