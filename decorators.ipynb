{
 "cells": [
  {
   "cell_type": "code",
   "execution_count": 1,
   "id": "a35c26cd",
   "metadata": {},
   "outputs": [
    {
     "name": "stdout",
     "output_type": "stream",
     "text": [
      "Welcome to our Shop!\n"
     ]
    }
   ],
   "source": [
    "def greet_customer():\n",
    "    return \"Welcome to our Shop!\"\n",
    "\n",
    "#assing function to variable\n",
    "my_greeting = greet_customer\n",
    "print(my_greeting())"
   ]
  },
  {
   "cell_type": "code",
   "execution_count": 3,
   "id": "1fd7c467",
   "metadata": {},
   "outputs": [
    {
     "name": "stdout",
     "output_type": "stream",
     "text": [
      "Shoekeeper says: Welcome to our Shop!\n"
     ]
    }
   ],
   "source": [
    "# you can pass function as arguments\n",
    "def use_greeting(greeting_func):\n",
    "    return f\"Shoekeeper says: {greeting_func()}\"\n",
    "\n",
    "print(use_greeting(greet_customer))"
   ]
  },
  {
   "cell_type": "code",
   "execution_count": 6,
   "id": "84dff685",
   "metadata": {},
   "outputs": [],
   "source": [
    "def add_nigerian_politness(original_function):\n",
    "     \"\"\"This decorator adds Nigerian politeness to any greeting\"\"\"\n",
    "     def wrapper():\n",
    "          result = original_function()\n",
    "          return f\"Good Morning ooo! {result} How is family ?\"\n",
    "     return wrapper\n",
    "\n",
    "# Orginal simple greeting\n",
    "def basic_greeting():\n",
    "     return \"Hello\""
   ]
  },
  {
   "cell_type": "code",
   "execution_count": 7,
   "id": "196edd43",
   "metadata": {},
   "outputs": [
    {
     "name": "stdout",
     "output_type": "stream",
     "text": [
      "Good Morning ooo! Hello How is family ?\n"
     ]
    }
   ],
   "source": [
    "#apply the decorator manually\n",
    "polite_greeting = add_nigerian_politness(basic_greeting)\n",
    "print(polite_greeting())"
   ]
  },
  {
   "cell_type": "code",
   "execution_count": 8,
   "id": "38fe34b6",
   "metadata": {},
   "outputs": [
    {
     "name": "stdout",
     "output_type": "stream",
     "text": [
      "Good Morning ooo! Welcome to my provision store How is family ?\n"
     ]
    }
   ],
   "source": [
    "#Using the @ symbol (syntatic sugar)\n",
    "@add_nigerian_politness\n",
    "def shop_greeting():\n",
    "    return \"Welcome to my provision store\"\n",
    "\n",
    "print(shop_greeting())"
   ]
  },
  {
   "cell_type": "code",
   "execution_count": 9,
   "id": "56e2fa35",
   "metadata": {},
   "outputs": [],
   "source": [
    "def add_nigerian_time_greeting(time_of_day):\n",
    "        \"\"\"Decorator that adds appropriate Nigerian greeting based on time\"\"\"\n",
    "        def decorator(original_function):\n",
    "            def wrapper():\n",
    "                if time_of_day == \"morning\":\n",
    "                    greeting = \"Good morning ooo!\"\n",
    "                elif time_of_day == \"afternoon\":\n",
    "                    greeting = \"Good afternoon ooo!\"\n",
    "                elif time_of_day == \"evening\":\n",
    "                    greeting = \"Good evening ooo!\"\n",
    "                else:\n",
    "                     greeting = \"How far!\"\n",
    "                result = original_function()\n",
    "                return f\"{greeting} {result}\"\n",
    "            return wrapper\n",
    "        return decorator\n"
   ]
  },
  {
   "cell_type": "code",
   "execution_count": 10,
   "id": "553a464f",
   "metadata": {},
   "outputs": [],
   "source": [
    "# Using the decorator with different times\n",
    "@add_nigerian_time_greeting(\"morning\")\n",
    "def market_greeting():\n",
    "    return \"Welcome  to our shop. How can we help you today?\"\n"
   ]
  },
  {
   "cell_type": "code",
   "execution_count": 11,
   "id": "5564202a",
   "metadata": {},
   "outputs": [],
   "source": [
    "@add_nigerian_time_greeting(\"evening\")\n",
    "def resturant_greeting():\n",
    "    return \"Welcome to our resturant. What would you like to eat?\""
   ]
  },
  {
   "cell_type": "code",
   "execution_count": 12,
   "id": "3143b805",
   "metadata": {},
   "outputs": [
    {
     "name": "stdout",
     "output_type": "stream",
     "text": [
      "Good morning ooo! Welcome  to our shop. How can we help you today?\n",
      "Good evening ooo! Welcome to our resturant. What would you like to eat?\n"
     ]
    }
   ],
   "source": [
    "print(market_greeting())\n",
    "print(resturant_greeting())"
   ]
  },
  {
   "cell_type": "code",
   "execution_count": null,
   "id": "1a8c112d",
   "metadata": {},
   "outputs": [],
   "source": [
    "def naira_formatter(curency_symbol =\"₦\"):\n",
    "    \"\"\"Decorator to format prices in Nigerian Naira\"\"\"\n",
    "    def decorator(price_function):\n",
    "        def wrapper(*args,**kwargs):\n",
    "            price = price_function(*args,**kwargs)\n",
    "            return f\"{curency_symbol}{price:,}\"\n",
    "        return wrapper\n",
    "    return decorator\n",
    "     "
   ]
  }
 ],
 "metadata": {
  "kernelspec": {
   "display_name": "bvenv",
   "language": "python",
   "name": "python3"
  },
  "language_info": {
   "codemirror_mode": {
    "name": "ipython",
    "version": 3
   },
   "file_extension": ".py",
   "mimetype": "text/x-python",
   "name": "python",
   "nbconvert_exporter": "python",
   "pygments_lexer": "ipython3",
   "version": "3.13.7"
  }
 },
 "nbformat": 4,
 "nbformat_minor": 5
}
